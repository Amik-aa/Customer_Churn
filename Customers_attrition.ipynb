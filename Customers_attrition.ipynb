{
 "cells": [
  {
   "cell_type": "markdown",
   "id": "2ede75b5",
   "metadata": {},
   "source": [
    "Importing required libraries "
   ]
  },
  {
   "cell_type": "code",
   "execution_count": 1,
   "id": "ad0597c4",
   "metadata": {
    "scrolled": true
   },
   "outputs": [],
   "source": [
    "import pandas as pd\n",
    "import matplotlib.pyplot as plt\n",
    "import seaborn as sns"
   ]
  },
  {
   "cell_type": "code",
   "execution_count": 2,
   "id": "8834519c",
   "metadata": {},
   "outputs": [],
   "source": [
    "df = pd.read_csv(\"customer_churn.csv\")"
   ]
  },
  {
   "cell_type": "code",
   "execution_count": 3,
   "id": "f52383b3",
   "metadata": {
    "scrolled": true
   },
   "outputs": [
    {
     "data": {
      "text/html": [
       "<div>\n",
       "<style scoped>\n",
       "    .dataframe tbody tr th:only-of-type {\n",
       "        vertical-align: middle;\n",
       "    }\n",
       "\n",
       "    .dataframe tbody tr th {\n",
       "        vertical-align: top;\n",
       "    }\n",
       "\n",
       "    .dataframe thead th {\n",
       "        text-align: right;\n",
       "    }\n",
       "</style>\n",
       "<table border=\"1\" class=\"dataframe\">\n",
       "  <thead>\n",
       "    <tr style=\"text-align: right;\">\n",
       "      <th></th>\n",
       "      <th>customerID</th>\n",
       "      <th>gender</th>\n",
       "      <th>SeniorCitizen</th>\n",
       "      <th>Partner</th>\n",
       "      <th>Dependents</th>\n",
       "      <th>tenure</th>\n",
       "      <th>PhoneService</th>\n",
       "      <th>MultipleLines</th>\n",
       "      <th>InternetService</th>\n",
       "      <th>OnlineSecurity</th>\n",
       "      <th>...</th>\n",
       "      <th>DeviceProtection</th>\n",
       "      <th>TechSupport</th>\n",
       "      <th>StreamingTV</th>\n",
       "      <th>StreamingMovies</th>\n",
       "      <th>Contract</th>\n",
       "      <th>PaperlessBilling</th>\n",
       "      <th>PaymentMethod</th>\n",
       "      <th>MonthlyCharges</th>\n",
       "      <th>TotalCharges</th>\n",
       "      <th>Churn</th>\n",
       "    </tr>\n",
       "  </thead>\n",
       "  <tbody>\n",
       "    <tr>\n",
       "      <th>0</th>\n",
       "      <td>7590-VHVEG</td>\n",
       "      <td>Female</td>\n",
       "      <td>0</td>\n",
       "      <td>Yes</td>\n",
       "      <td>No</td>\n",
       "      <td>1</td>\n",
       "      <td>No</td>\n",
       "      <td>No phone service</td>\n",
       "      <td>DSL</td>\n",
       "      <td>No</td>\n",
       "      <td>...</td>\n",
       "      <td>No</td>\n",
       "      <td>No</td>\n",
       "      <td>No</td>\n",
       "      <td>No</td>\n",
       "      <td>Month-to-month</td>\n",
       "      <td>Yes</td>\n",
       "      <td>Electronic check</td>\n",
       "      <td>29.85</td>\n",
       "      <td>29.85</td>\n",
       "      <td>No</td>\n",
       "    </tr>\n",
       "    <tr>\n",
       "      <th>1</th>\n",
       "      <td>5575-GNVDE</td>\n",
       "      <td>Male</td>\n",
       "      <td>0</td>\n",
       "      <td>No</td>\n",
       "      <td>No</td>\n",
       "      <td>34</td>\n",
       "      <td>Yes</td>\n",
       "      <td>No</td>\n",
       "      <td>DSL</td>\n",
       "      <td>Yes</td>\n",
       "      <td>...</td>\n",
       "      <td>Yes</td>\n",
       "      <td>No</td>\n",
       "      <td>No</td>\n",
       "      <td>No</td>\n",
       "      <td>One year</td>\n",
       "      <td>No</td>\n",
       "      <td>Mailed check</td>\n",
       "      <td>56.95</td>\n",
       "      <td>1889.5</td>\n",
       "      <td>No</td>\n",
       "    </tr>\n",
       "    <tr>\n",
       "      <th>2</th>\n",
       "      <td>3668-QPYBK</td>\n",
       "      <td>Male</td>\n",
       "      <td>0</td>\n",
       "      <td>No</td>\n",
       "      <td>No</td>\n",
       "      <td>2</td>\n",
       "      <td>Yes</td>\n",
       "      <td>No</td>\n",
       "      <td>DSL</td>\n",
       "      <td>Yes</td>\n",
       "      <td>...</td>\n",
       "      <td>No</td>\n",
       "      <td>No</td>\n",
       "      <td>No</td>\n",
       "      <td>No</td>\n",
       "      <td>Month-to-month</td>\n",
       "      <td>Yes</td>\n",
       "      <td>Mailed check</td>\n",
       "      <td>53.85</td>\n",
       "      <td>108.15</td>\n",
       "      <td>Yes</td>\n",
       "    </tr>\n",
       "    <tr>\n",
       "      <th>3</th>\n",
       "      <td>7795-CFOCW</td>\n",
       "      <td>Male</td>\n",
       "      <td>0</td>\n",
       "      <td>No</td>\n",
       "      <td>No</td>\n",
       "      <td>45</td>\n",
       "      <td>No</td>\n",
       "      <td>No phone service</td>\n",
       "      <td>DSL</td>\n",
       "      <td>Yes</td>\n",
       "      <td>...</td>\n",
       "      <td>Yes</td>\n",
       "      <td>Yes</td>\n",
       "      <td>No</td>\n",
       "      <td>No</td>\n",
       "      <td>One year</td>\n",
       "      <td>No</td>\n",
       "      <td>Bank transfer (automatic)</td>\n",
       "      <td>42.30</td>\n",
       "      <td>1840.75</td>\n",
       "      <td>No</td>\n",
       "    </tr>\n",
       "    <tr>\n",
       "      <th>4</th>\n",
       "      <td>9237-HQITU</td>\n",
       "      <td>Female</td>\n",
       "      <td>0</td>\n",
       "      <td>No</td>\n",
       "      <td>No</td>\n",
       "      <td>2</td>\n",
       "      <td>Yes</td>\n",
       "      <td>No</td>\n",
       "      <td>Fiber optic</td>\n",
       "      <td>No</td>\n",
       "      <td>...</td>\n",
       "      <td>No</td>\n",
       "      <td>No</td>\n",
       "      <td>No</td>\n",
       "      <td>No</td>\n",
       "      <td>Month-to-month</td>\n",
       "      <td>Yes</td>\n",
       "      <td>Electronic check</td>\n",
       "      <td>70.70</td>\n",
       "      <td>151.65</td>\n",
       "      <td>Yes</td>\n",
       "    </tr>\n",
       "  </tbody>\n",
       "</table>\n",
       "<p>5 rows × 21 columns</p>\n",
       "</div>"
      ],
      "text/plain": [
       "   customerID  gender  SeniorCitizen Partner Dependents  tenure PhoneService  \\\n",
       "0  7590-VHVEG  Female              0     Yes         No       1           No   \n",
       "1  5575-GNVDE    Male              0      No         No      34          Yes   \n",
       "2  3668-QPYBK    Male              0      No         No       2          Yes   \n",
       "3  7795-CFOCW    Male              0      No         No      45           No   \n",
       "4  9237-HQITU  Female              0      No         No       2          Yes   \n",
       "\n",
       "      MultipleLines InternetService OnlineSecurity  ... DeviceProtection  \\\n",
       "0  No phone service             DSL             No  ...               No   \n",
       "1                No             DSL            Yes  ...              Yes   \n",
       "2                No             DSL            Yes  ...               No   \n",
       "3  No phone service             DSL            Yes  ...              Yes   \n",
       "4                No     Fiber optic             No  ...               No   \n",
       "\n",
       "  TechSupport StreamingTV StreamingMovies        Contract PaperlessBilling  \\\n",
       "0          No          No              No  Month-to-month              Yes   \n",
       "1          No          No              No        One year               No   \n",
       "2          No          No              No  Month-to-month              Yes   \n",
       "3         Yes          No              No        One year               No   \n",
       "4          No          No              No  Month-to-month              Yes   \n",
       "\n",
       "               PaymentMethod MonthlyCharges  TotalCharges Churn  \n",
       "0           Electronic check          29.85         29.85    No  \n",
       "1               Mailed check          56.95        1889.5    No  \n",
       "2               Mailed check          53.85        108.15   Yes  \n",
       "3  Bank transfer (automatic)          42.30       1840.75    No  \n",
       "4           Electronic check          70.70        151.65   Yes  \n",
       "\n",
       "[5 rows x 21 columns]"
      ]
     },
     "execution_count": 3,
     "metadata": {},
     "output_type": "execute_result"
    }
   ],
   "source": [
    "df.head()"
   ]
  },
  {
   "cell_type": "code",
   "execution_count": 4,
   "id": "b2e3f678",
   "metadata": {
    "scrolled": true
   },
   "outputs": [
    {
     "name": "stdout",
     "output_type": "stream",
     "text": [
      "<class 'pandas.core.frame.DataFrame'>\n",
      "RangeIndex: 7043 entries, 0 to 7042\n",
      "Data columns (total 21 columns):\n",
      " #   Column            Non-Null Count  Dtype  \n",
      "---  ------            --------------  -----  \n",
      " 0   customerID        7043 non-null   object \n",
      " 1   gender            7043 non-null   object \n",
      " 2   SeniorCitizen     7043 non-null   int64  \n",
      " 3   Partner           7043 non-null   object \n",
      " 4   Dependents        7043 non-null   object \n",
      " 5   tenure            7043 non-null   int64  \n",
      " 6   PhoneService      7043 non-null   object \n",
      " 7   MultipleLines     7043 non-null   object \n",
      " 8   InternetService   7043 non-null   object \n",
      " 9   OnlineSecurity    7043 non-null   object \n",
      " 10  OnlineBackup      7043 non-null   object \n",
      " 11  DeviceProtection  7043 non-null   object \n",
      " 12  TechSupport       7043 non-null   object \n",
      " 13  StreamingTV       7043 non-null   object \n",
      " 14  StreamingMovies   7043 non-null   object \n",
      " 15  Contract          7043 non-null   object \n",
      " 16  PaperlessBilling  7043 non-null   object \n",
      " 17  PaymentMethod     7043 non-null   object \n",
      " 18  MonthlyCharges    7043 non-null   float64\n",
      " 19  TotalCharges      7043 non-null   object \n",
      " 20  Churn             7043 non-null   object \n",
      "dtypes: float64(1), int64(2), object(18)\n",
      "memory usage: 1.1+ MB\n"
     ]
    }
   ],
   "source": [
    "df.info()"
   ]
  },
  {
   "cell_type": "markdown",
   "id": "2c715ade",
   "metadata": {},
   "source": [
    "## Data Manipulation"
   ]
  },
  {
   "cell_type": "code",
   "execution_count": 7,
   "id": "2c609501",
   "metadata": {},
   "outputs": [],
   "source": [
    "total_male_customers = df[df['gender'] == 'Male'].shape[0]"
   ]
  },
  {
   "cell_type": "code",
   "execution_count": 8,
   "id": "e0a43d87",
   "metadata": {},
   "outputs": [
    {
     "name": "stdout",
     "output_type": "stream",
     "text": [
      "3549\n"
     ]
    }
   ],
   "source": [
    "print(total_male_customers)"
   ]
  },
  {
   "cell_type": "code",
   "execution_count": 9,
   "id": "0fb10241",
   "metadata": {},
   "outputs": [],
   "source": [
    "total_DSL = df[df['InternetService'] == 'DSL'].shape[0]"
   ]
  },
  {
   "cell_type": "code",
   "execution_count": 10,
   "id": "fc5b6b6b",
   "metadata": {},
   "outputs": [
    {
     "name": "stdout",
     "output_type": "stream",
     "text": [
      "2416\n"
     ]
    }
   ],
   "source": [
    "print(total_DSL)"
   ]
  },
  {
   "cell_type": "code",
   "execution_count": 11,
   "id": "31ac0235",
   "metadata": {},
   "outputs": [],
   "source": [
    "New_customer = df[(df['gender'] == 'Female') & (df['SeniorCitizen'] == 1) & (df['PaymentMethod'] == 'Mailed check')]"
   ]
  },
  {
   "cell_type": "code",
   "execution_count": 12,
   "id": "e93f8e28",
   "metadata": {},
   "outputs": [],
   "source": [
    "new_customer = df[(df['tenure'] < 10) | (df['TotalCharges'] < 500)]"
   ]
  },
  {
   "cell_type": "markdown",
   "id": "c7ecbbf0",
   "metadata": {},
   "source": [
    "## Data Visualization"
   ]
  },
  {
   "cell_type": "code",
   "execution_count": 13,
   "id": "efb476cd",
   "metadata": {},
   "outputs": [],
   "source": [
    "churn_counts = df['Churn'].value_counts()"
   ]
  },
  {
   "cell_type": "code",
   "execution_count": 14,
   "id": "a32e155a",
   "metadata": {},
   "outputs": [
    {
     "data": {
      "image/png": "[encoded data removed]",
      "text/plain": [
       "<Figure size 500x500 with 1 Axes>"
      ]
     },
     "metadata": {},
     "output_type": "display_data"
    }
   ],
   "source": [
    "plt.figure(figsize=(5,5))\n",
    "plt.pie(churn_counts,labels=churn_counts.index,autopct='%1.1f%%', startangle=90, colors=['skyblue', 'lightgreen'])\n",
    "plt.title('Customer Churn Distribution')\n",
    "plt.show()"
   ]
  },
  {
   "cell_type": "code",
   "execution_count": 15,
   "id": "16ee647b",
   "metadata": {},
   "outputs": [],
   "source": [
    "internet_counts = df['InternetService'].value_counts()"
   ]
  },
  {
   "cell_type": "code",
   "execution_count": 16,
   "id": "19a7775a",
   "metadata": {
    "scrolled": true
   },
   "outputs": [
    {
     "name": "stderr",
     "output_type": "stream",
     "text": [
      "C:\\Users\\hp\\AppData\\Local\\Temp\\ipykernel_14648\\3229273743.py:2: FutureWarning: \n",
      "\n",
      "Passing `palette` without assigning `hue` is deprecated and will be removed in v0.14.0. Assign the `x` variable to `hue` and set `legend=False` for the same effect.\n",
      "\n",
      "  sns.barplot(x=internet_counts.index, y=internet_counts, palette=\"muted\")\n"
     ]
    },
    {
     "data": {
      "image/png": "[encoded data removed]",
      "text/plain": [
       "<Figure size 800x600 with 1 Axes>"
      ]
     },
     "metadata": {},
     "output_type": "display_data"
    }
   ],
   "source": [
    "plt.figure(figsize=(8,6))\n",
    "sns.barplot(x=internet_counts.index, y=internet_counts, palette=\"muted\")\n",
    "plt.title('Distribution of Internet Service')\n",
    "plt.xlabel('Internet Service')\n",
    "plt.ylabel('Count')\n",
    "plt.show()"
   ]
  },
  {
   "cell_type": "markdown",
   "id": "69414178",
   "metadata": {},
   "source": [
    "## Model Building"
   ]
  },
  {
   "cell_type": "markdown",
   "id": "d3e7bcf5",
   "metadata": {},
   "source": [
    "Building a sequential model using Keras, to find out if the customer would churn or not, using\n",
    "‘tenure’ as the feature and ‘Churn’ as the dependent/target column:\n",
    "i.\n",
    "The visible/input layer would have 12 nodes with ‘Relu’ as activation function.\n",
    "ii.\n",
    "This model would have 1 hidden layer with 8 nodes and ‘Relu’ as activation function\n",
    "iii.\n",
    "Using ‘Adam’ as the optimization algorithm \n",
    "iv.\n",
    "Fit the model on the train set, with number of epochs to be 150\n",
    "v.\n",
    "Predicted the values on the test set and build a confusion matrix \n",
    "vi.\n",
    "Plot the ‘Accuracy vs Epochs’ graph"
   ]
  },
  {
   "cell_type": "code",
   "execution_count": 27,
   "id": "01edf28f",
   "metadata": {},
   "outputs": [],
   "source": [
    "import numpy as np\n",
    "from keras.models import Sequential\n",
    "from keras.layers import Dense, Dropout\n",
    "from sklearn.model_selection import train_test_split\n",
    "from sklearn.metrics import confusion_matrix"
   ]
  },
  {
   "cell_type": "code",
   "execution_count": 18,
   "id": "75a7eb7e",
   "metadata": {},
   "outputs": [],
   "source": [
    "X = df[['tenure']].values\n",
    "y = pd.get_dummies(df['Churn'], drop_first=True).values"
   ]
  },
  {
   "cell_type": "code",
   "execution_count": 19,
   "id": "cb09c1e6",
   "metadata": {},
   "outputs": [],
   "source": [
    "X_train, X_test, y_train, y_test = train_test_split(X, y, test_size=0.2, random_state=42)"
   ]
  },
  {
   "cell_type": "code",
   "execution_count": 20,
   "id": "375c1803",
   "metadata": {},
   "outputs": [],
   "source": [
    "model = Sequential()\n",
    "model.add(Dense(12, input_dim=1, activation='relu')) \n",
    "model.add(Dense(8, activation='relu')) \n",
    "model.add(Dense(1, activation='sigmoid')) "
   ]
  },
  {
   "cell_type": "code",
   "execution_count": 21,
   "id": "d8db97f4",
   "metadata": {},
   "outputs": [],
   "source": [
    "model.compile(loss='binary_crossentropy', optimizer='adam', metrics=['accuracy'])"
   ]
  },
  {
   "cell_type": "code",
   "execution_count": 22,
   "id": "652d3f1f",
   "metadata": {},
   "outputs": [
    {
     "name": "stdout",
     "output_type": "stream",
     "text": [
      "Epoch 1/150\n",
      "563/563 [==============================] - 11s 6ms/step - loss: 0.5292 - accuracy: 0.7575\n",
      "Epoch 2/150\n",
      "563/563 [==============================] - 2s 4ms/step - loss: 0.5143 - accuracy: 0.7534\n",
      "Epoch 3/150\n",
      "563/563 [==============================] - 2s 4ms/step - loss: 0.5136 - accuracy: 0.7479\n",
      "Epoch 4/150\n",
      "563/563 [==============================] - 2s 3ms/step - loss: 0.5140 - accuracy: 0.7438\n",
      "Epoch 5/150\n",
      "563/563 [==============================] - 2s 4ms/step - loss: 0.5165 - accuracy: 0.7470\n",
      "Epoch 6/150\n",
      "563/563 [==============================] - 2s 4ms/step - loss: 0.5152 - accuracy: 0.7374\n",
      "Epoch 7/150\n",
      "563/563 [==============================] - 2s 4ms/step - loss: 0.5145 - accuracy: 0.7470\n",
      "Epoch 8/150\n",
      "563/563 [==============================] - 2s 4ms/step - loss: 0.5134 - accuracy: 0.7422\n",
      "Epoch 9/150\n",
      "563/563 [==============================] - 2s 4ms/step - loss: 0.5141 - accuracy: 0.7436\n",
      "Epoch 10/150\n",
      "563/563 [==============================] - 2s 4ms/step - loss: 0.5154 - accuracy: 0.7513\n",
      "Epoch 11/150\n",
      "563/563 [==============================] - 2s 3ms/step - loss: 0.5124 - accuracy: 0.7412\n",
      "Epoch 12/150\n",
      "563/563 [==============================] - 2s 4ms/step - loss: 0.5139 - accuracy: 0.7513\n",
      "Epoch 13/150\n",
      "563/563 [==============================] - 3s 5ms/step - loss: 0.5132 - accuracy: 0.7451\n",
      "Epoch 14/150\n",
      "563/563 [==============================] - 3s 5ms/step - loss: 0.5149 - accuracy: 0.7470\n",
      "Epoch 15/150\n",
      "563/563 [==============================] - 3s 5ms/step - loss: 0.5139 - accuracy: 0.7449\n",
      "Epoch 16/150\n",
      "563/563 [==============================] - 3s 4ms/step - loss: 0.5151 - accuracy: 0.7428\n",
      "Epoch 17/150\n",
      "563/563 [==============================] - 2s 4ms/step - loss: 0.5139 - accuracy: 0.7387\n",
      "Epoch 18/150\n",
      "563/563 [==============================] - 2s 4ms/step - loss: 0.5136 - accuracy: 0.7451\n",
      "Epoch 19/150\n",
      "563/563 [==============================] - 3s 5ms/step - loss: 0.5120 - accuracy: 0.7435\n",
      "Epoch 20/150\n",
      "563/563 [==============================] - 3s 5ms/step - loss: 0.5141 - accuracy: 0.7410\n",
      "Epoch 21/150\n",
      "563/563 [==============================] - 2s 4ms/step - loss: 0.5123 - accuracy: 0.7452\n",
      "Epoch 22/150\n",
      "563/563 [==============================] - 2s 4ms/step - loss: 0.5122 - accuracy: 0.7479\n",
      "Epoch 23/150\n",
      "563/563 [==============================] - 2s 4ms/step - loss: 0.5132 - accuracy: 0.7525\n",
      "Epoch 24/150\n",
      "563/563 [==============================] - 2s 4ms/step - loss: 0.5118 - accuracy: 0.7479\n",
      "Epoch 25/150\n",
      "563/563 [==============================] - 2s 4ms/step - loss: 0.5128 - accuracy: 0.7461\n",
      "Epoch 26/150\n",
      "563/563 [==============================] - 3s 5ms/step - loss: 0.5121 - accuracy: 0.7543\n",
      "Epoch 27/150\n",
      "563/563 [==============================] - 2s 4ms/step - loss: 0.5116 - accuracy: 0.7541\n",
      "Epoch 28/150\n",
      "563/563 [==============================] - 2s 4ms/step - loss: 0.5115 - accuracy: 0.7564\n",
      "Epoch 29/150\n",
      "563/563 [==============================] - 2s 4ms/step - loss: 0.5125 - accuracy: 0.7556\n",
      "Epoch 30/150\n",
      "563/563 [==============================] - 2s 4ms/step - loss: 0.5115 - accuracy: 0.7552\n",
      "Epoch 31/150\n",
      "563/563 [==============================] - 2s 4ms/step - loss: 0.5114 - accuracy: 0.7566\n",
      "Epoch 32/150\n",
      "563/563 [==============================] - 3s 5ms/step - loss: 0.5119 - accuracy: 0.7559\n",
      "Epoch 33/150\n",
      "563/563 [==============================] - 3s 5ms/step - loss: 0.5101 - accuracy: 0.7550\n",
      "Epoch 34/150\n",
      "563/563 [==============================] - 3s 4ms/step - loss: 0.5114 - accuracy: 0.7561\n",
      "Epoch 35/150\n",
      "563/563 [==============================] - 2s 4ms/step - loss: 0.5114 - accuracy: 0.7561\n",
      "Epoch 36/150\n",
      "563/563 [==============================] - 2s 4ms/step - loss: 0.5107 - accuracy: 0.7561\n",
      "Epoch 37/150\n",
      "563/563 [==============================] - 2s 4ms/step - loss: 0.5101 - accuracy: 0.7563\n",
      "Epoch 38/150\n",
      "563/563 [==============================] - 2s 3ms/step - loss: 0.5113 - accuracy: 0.7550\n",
      "Epoch 39/150\n",
      "563/563 [==============================] - 2s 4ms/step - loss: 0.5100 - accuracy: 0.7554\n",
      "Epoch 40/150\n",
      "563/563 [==============================] - 2s 4ms/step - loss: 0.5101 - accuracy: 0.7554\n",
      "Epoch 41/150\n",
      "563/563 [==============================] - 2s 4ms/step - loss: 0.5107 - accuracy: 0.7545\n",
      "Epoch 42/150\n",
      "563/563 [==============================] - 2s 4ms/step - loss: 0.5109 - accuracy: 0.7540\n",
      "Epoch 43/150\n",
      "563/563 [==============================] - 2s 4ms/step - loss: 0.5110 - accuracy: 0.7559\n",
      "Epoch 44/150\n",
      "563/563 [==============================] - 2s 3ms/step - loss: 0.5105 - accuracy: 0.7557\n",
      "Epoch 45/150\n",
      "563/563 [==============================] - 2s 3ms/step - loss: 0.5099 - accuracy: 0.7552\n",
      "Epoch 46/150\n",
      "563/563 [==============================] - 2s 4ms/step - loss: 0.5091 - accuracy: 0.7550\n",
      "Epoch 47/150\n",
      "563/563 [==============================] - 2s 4ms/step - loss: 0.5101 - accuracy: 0.7532\n",
      "Epoch 48/150\n",
      "563/563 [==============================] - 2s 4ms/step - loss: 0.5094 - accuracy: 0.7559\n",
      "Epoch 49/150\n",
      "563/563 [==============================] - 2s 4ms/step - loss: 0.5104 - accuracy: 0.7536\n",
      "Epoch 50/150\n",
      "563/563 [==============================] - 3s 6ms/step - loss: 0.5096 - accuracy: 0.7531\n",
      "Epoch 51/150\n",
      "563/563 [==============================] - 2s 4ms/step - loss: 0.5107 - accuracy: 0.7524\n",
      "Epoch 52/150\n",
      "563/563 [==============================] - 3s 5ms/step - loss: 0.5096 - accuracy: 0.7561\n",
      "Epoch 53/150\n",
      "563/563 [==============================] - 2s 4ms/step - loss: 0.5101 - accuracy: 0.7532\n",
      "Epoch 54/150\n",
      "563/563 [==============================] - 2s 4ms/step - loss: 0.5096 - accuracy: 0.7527\n",
      "Epoch 55/150\n",
      "563/563 [==============================] - 2s 3ms/step - loss: 0.5104 - accuracy: 0.7527\n",
      "Epoch 56/150\n",
      "563/563 [==============================] - 2s 4ms/step - loss: 0.5093 - accuracy: 0.7556\n",
      "Epoch 57/150\n",
      "563/563 [==============================] - 2s 4ms/step - loss: 0.5100 - accuracy: 0.7532\n",
      "Epoch 58/150\n",
      "563/563 [==============================] - 2s 4ms/step - loss: 0.5093 - accuracy: 0.7540\n",
      "Epoch 59/150\n",
      "563/563 [==============================] - 2s 4ms/step - loss: 0.5099 - accuracy: 0.7559\n",
      "Epoch 60/150\n",
      "563/563 [==============================] - 2s 4ms/step - loss: 0.5088 - accuracy: 0.7550\n",
      "Epoch 61/150\n",
      "563/563 [==============================] - 2s 4ms/step - loss: 0.5097 - accuracy: 0.7532\n",
      "Epoch 62/150\n",
      "563/563 [==============================] - 2s 4ms/step - loss: 0.5093 - accuracy: 0.7561\n",
      "Epoch 63/150\n",
      "563/563 [==============================] - 2s 4ms/step - loss: 0.5095 - accuracy: 0.7532\n",
      "Epoch 64/150\n",
      "563/563 [==============================] - 2s 4ms/step - loss: 0.5094 - accuracy: 0.7557\n",
      "Epoch 65/150\n",
      "563/563 [==============================] - 2s 4ms/step - loss: 0.5096 - accuracy: 0.7545\n",
      "Epoch 66/150\n",
      "563/563 [==============================] - 2s 4ms/step - loss: 0.5090 - accuracy: 0.7541\n",
      "Epoch 67/150\n",
      "563/563 [==============================] - 2s 4ms/step - loss: 0.5087 - accuracy: 0.7541\n",
      "Epoch 68/150\n",
      "563/563 [==============================] - 3s 4ms/step - loss: 0.5091 - accuracy: 0.7536\n",
      "Epoch 69/150\n",
      "563/563 [==============================] - 2s 4ms/step - loss: 0.5095 - accuracy: 0.7534\n",
      "Epoch 70/150\n",
      "563/563 [==============================] - 3s 4ms/step - loss: 0.5086 - accuracy: 0.7525\n",
      "Epoch 71/150\n",
      "563/563 [==============================] - 3s 5ms/step - loss: 0.5099 - accuracy: 0.7532\n",
      "Epoch 72/150\n",
      "563/563 [==============================] - 2s 4ms/step - loss: 0.5093 - accuracy: 0.7531\n",
      "Epoch 73/150\n",
      "563/563 [==============================] - 2s 4ms/step - loss: 0.5085 - accuracy: 0.7518\n",
      "Epoch 74/150\n",
      "563/563 [==============================] - 2s 4ms/step - loss: 0.5088 - accuracy: 0.7534\n",
      "Epoch 75/150\n",
      "563/563 [==============================] - 2s 4ms/step - loss: 0.5091 - accuracy: 0.7547\n",
      "Epoch 76/150\n",
      "563/563 [==============================] - 2s 4ms/step - loss: 0.5091 - accuracy: 0.7532\n",
      "Epoch 77/150\n",
      "563/563 [==============================] - 2s 4ms/step - loss: 0.5091 - accuracy: 0.7531\n",
      "Epoch 78/150\n",
      "563/563 [==============================] - 2s 4ms/step - loss: 0.5085 - accuracy: 0.7527\n",
      "Epoch 79/150\n",
      "563/563 [==============================] - 2s 4ms/step - loss: 0.5088 - accuracy: 0.7538\n",
      "Epoch 80/150\n",
      "563/563 [==============================] - 3s 5ms/step - loss: 0.5090 - accuracy: 0.7529\n",
      "Epoch 81/150\n",
      "563/563 [==============================] - 2s 4ms/step - loss: 0.5089 - accuracy: 0.7518\n",
      "Epoch 82/150\n",
      "563/563 [==============================] - 2s 4ms/step - loss: 0.5088 - accuracy: 0.7527\n",
      "Epoch 83/150\n",
      "563/563 [==============================] - 2s 4ms/step - loss: 0.5090 - accuracy: 0.7529\n",
      "Epoch 84/150\n",
      "563/563 [==============================] - 2s 4ms/step - loss: 0.5086 - accuracy: 0.7532\n",
      "Epoch 85/150\n",
      "563/563 [==============================] - 2s 4ms/step - loss: 0.5088 - accuracy: 0.7536\n",
      "Epoch 86/150\n",
      "563/563 [==============================] - 2s 4ms/step - loss: 0.5083 - accuracy: 0.7541\n",
      "Epoch 87/150\n",
      "563/563 [==============================] - 2s 4ms/step - loss: 0.5094 - accuracy: 0.7532\n",
      "Epoch 88/150\n",
      "563/563 [==============================] - 2s 4ms/step - loss: 0.5079 - accuracy: 0.7543\n",
      "Epoch 89/150\n",
      "563/563 [==============================] - 2s 4ms/step - loss: 0.5091 - accuracy: 0.7532\n",
      "Epoch 90/150\n",
      "563/563 [==============================] - 2s 4ms/step - loss: 0.5084 - accuracy: 0.7516\n",
      "Epoch 91/150\n",
      "563/563 [==============================] - 2s 4ms/step - loss: 0.5088 - accuracy: 0.7529\n",
      "Epoch 92/150\n",
      "563/563 [==============================] - 2s 4ms/step - loss: 0.5095 - accuracy: 0.7529\n",
      "Epoch 93/150\n",
      "563/563 [==============================] - 2s 3ms/step - loss: 0.5082 - accuracy: 0.7529\n",
      "Epoch 94/150\n",
      "563/563 [==============================] - 2s 4ms/step - loss: 0.5082 - accuracy: 0.7534\n",
      "Epoch 95/150\n",
      "563/563 [==============================] - 2s 4ms/step - loss: 0.5087 - accuracy: 0.7529\n",
      "Epoch 96/150\n",
      "563/563 [==============================] - 2s 4ms/step - loss: 0.5094 - accuracy: 0.7543\n",
      "Epoch 97/150\n",
      "563/563 [==============================] - 2s 4ms/step - loss: 0.5087 - accuracy: 0.7536\n",
      "Epoch 98/150\n",
      "563/563 [==============================] - 2s 4ms/step - loss: 0.5086 - accuracy: 0.7524\n",
      "Epoch 99/150\n",
      "563/563 [==============================] - 2s 4ms/step - loss: 0.5086 - accuracy: 0.7525\n",
      "Epoch 100/150\n",
      "563/563 [==============================] - 2s 3ms/step - loss: 0.5085 - accuracy: 0.7532\n",
      "Epoch 101/150\n",
      "563/563 [==============================] - 2s 3ms/step - loss: 0.5083 - accuracy: 0.7541\n",
      "Epoch 102/150\n",
      "563/563 [==============================] - 2s 4ms/step - loss: 0.5092 - accuracy: 0.7532\n",
      "Epoch 103/150\n",
      "563/563 [==============================] - 2s 4ms/step - loss: 0.5084 - accuracy: 0.7534\n",
      "Epoch 104/150\n",
      "563/563 [==============================] - 2s 4ms/step - loss: 0.5086 - accuracy: 0.7513\n",
      "Epoch 105/150\n",
      "563/563 [==============================] - 2s 4ms/step - loss: 0.5087 - accuracy: 0.7532\n",
      "Epoch 106/150\n",
      "563/563 [==============================] - 2s 4ms/step - loss: 0.5089 - accuracy: 0.7513\n",
      "Epoch 107/150\n",
      "563/563 [==============================] - 2s 3ms/step - loss: 0.5083 - accuracy: 0.7532\n",
      "Epoch 108/150\n",
      "563/563 [==============================] - 2s 3ms/step - loss: 0.5086 - accuracy: 0.7527\n",
      "Epoch 109/150\n",
      "563/563 [==============================] - 2s 3ms/step - loss: 0.5080 - accuracy: 0.7541\n",
      "Epoch 110/150\n",
      "563/563 [==============================] - 2s 4ms/step - loss: 0.5089 - accuracy: 0.7506\n",
      "Epoch 111/150\n",
      "563/563 [==============================] - 2s 4ms/step - loss: 0.5087 - accuracy: 0.7529\n",
      "Epoch 112/150\n",
      "563/563 [==============================] - 2s 4ms/step - loss: 0.5080 - accuracy: 0.7534\n",
      "Epoch 113/150\n",
      "563/563 [==============================] - 2s 4ms/step - loss: 0.5085 - accuracy: 0.7529\n",
      "Epoch 114/150\n",
      "563/563 [==============================] - 2s 4ms/step - loss: 0.5087 - accuracy: 0.7534\n",
      "Epoch 115/150\n",
      "563/563 [==============================] - 2s 3ms/step - loss: 0.5086 - accuracy: 0.7525\n",
      "Epoch 116/150\n",
      "563/563 [==============================] - 2s 3ms/step - loss: 0.5087 - accuracy: 0.7541\n",
      "Epoch 117/150\n",
      "563/563 [==============================] - 2s 4ms/step - loss: 0.5084 - accuracy: 0.7532\n",
      "Epoch 118/150\n",
      "563/563 [==============================] - 2s 4ms/step - loss: 0.5086 - accuracy: 0.7534\n",
      "Epoch 119/150\n",
      "563/563 [==============================] - 2s 4ms/step - loss: 0.5089 - accuracy: 0.7513\n",
      "Epoch 120/150\n",
      "563/563 [==============================] - 2s 4ms/step - loss: 0.5084 - accuracy: 0.7516\n",
      "Epoch 121/150\n",
      "563/563 [==============================] - 2s 4ms/step - loss: 0.5087 - accuracy: 0.7534\n",
      "Epoch 122/150\n",
      "563/563 [==============================] - 2s 4ms/step - loss: 0.5087 - accuracy: 0.7527\n",
      "Epoch 123/150\n",
      "563/563 [==============================] - 2s 3ms/step - loss: 0.5089 - accuracy: 0.7543\n",
      "Epoch 124/150\n",
      "563/563 [==============================] - 2s 3ms/step - loss: 0.5078 - accuracy: 0.7532\n",
      "Epoch 125/150\n",
      "563/563 [==============================] - 2s 4ms/step - loss: 0.5089 - accuracy: 0.7522\n",
      "Epoch 126/150\n",
      "563/563 [==============================] - 2s 4ms/step - loss: 0.5084 - accuracy: 0.7500\n",
      "Epoch 127/150\n",
      "563/563 [==============================] - 2s 4ms/step - loss: 0.5089 - accuracy: 0.7538\n",
      "Epoch 128/150\n",
      "563/563 [==============================] - 2s 4ms/step - loss: 0.5080 - accuracy: 0.7532\n",
      "Epoch 129/150\n",
      "563/563 [==============================] - 2s 4ms/step - loss: 0.5080 - accuracy: 0.7520\n",
      "Epoch 130/150\n",
      "563/563 [==============================] - 2s 3ms/step - loss: 0.5085 - accuracy: 0.7529\n",
      "Epoch 131/150\n",
      "563/563 [==============================] - 2s 3ms/step - loss: 0.5081 - accuracy: 0.7531\n",
      "Epoch 132/150\n",
      "563/563 [==============================] - 2s 4ms/step - loss: 0.5084 - accuracy: 0.7527\n",
      "Epoch 133/150\n",
      "563/563 [==============================] - 2s 4ms/step - loss: 0.5086 - accuracy: 0.7529\n",
      "Epoch 134/150\n",
      "563/563 [==============================] - 2s 4ms/step - loss: 0.5084 - accuracy: 0.7534\n",
      "Epoch 135/150\n",
      "563/563 [==============================] - 2s 4ms/step - loss: 0.5077 - accuracy: 0.7511\n",
      "Epoch 136/150\n",
      "563/563 [==============================] - 2s 4ms/step - loss: 0.5089 - accuracy: 0.7522\n",
      "Epoch 137/150\n",
      "563/563 [==============================] - 2s 4ms/step - loss: 0.5087 - accuracy: 0.7532\n",
      "Epoch 138/150\n",
      "563/563 [==============================] - 2s 3ms/step - loss: 0.5094 - accuracy: 0.7536\n",
      "Epoch 139/150\n",
      "563/563 [==============================] - 2s 3ms/step - loss: 0.5083 - accuracy: 0.7540\n",
      "Epoch 140/150\n",
      "563/563 [==============================] - 2s 4ms/step - loss: 0.5081 - accuracy: 0.7541\n",
      "Epoch 141/150\n",
      "563/563 [==============================] - 2s 4ms/step - loss: 0.5086 - accuracy: 0.7532\n",
      "Epoch 142/150\n",
      "563/563 [==============================] - 2s 4ms/step - loss: 0.5085 - accuracy: 0.7534\n",
      "Epoch 143/150\n",
      "563/563 [==============================] - 2s 4ms/step - loss: 0.5081 - accuracy: 0.7532\n",
      "Epoch 144/150\n",
      "563/563 [==============================] - 2s 4ms/step - loss: 0.5081 - accuracy: 0.7534\n",
      "Epoch 145/150\n",
      "563/563 [==============================] - 2s 4ms/step - loss: 0.5080 - accuracy: 0.7540\n",
      "Epoch 146/150\n",
      "563/563 [==============================] - 2s 3ms/step - loss: 0.5087 - accuracy: 0.7520\n",
      "Epoch 147/150\n",
      "563/563 [==============================] - 2s 4ms/step - loss: 0.5081 - accuracy: 0.7515\n",
      "Epoch 148/150\n",
      "563/563 [==============================] - 2s 4ms/step - loss: 0.5080 - accuracy: 0.7536\n",
      "Epoch 149/150\n",
      "563/563 [==============================] - 2s 4ms/step - loss: 0.5085 - accuracy: 0.7515\n",
      "Epoch 150/150\n",
      "563/563 [==============================] - 2s 4ms/step - loss: 0.5081 - accuracy: 0.7527\n"
     ]
    }
   ],
   "source": [
    "history = model.fit(X_train, y_train, epochs=150, batch_size=10)"
   ]
  },
  {
   "cell_type": "code",
   "execution_count": 23,
   "id": "eec3f2e6",
   "metadata": {},
   "outputs": [
    {
     "name": "stdout",
     "output_type": "stream",
     "text": [
      "44/44 [==============================] - 0s 4ms/step\n"
     ]
    }
   ],
   "source": [
    "y_pred = model.predict(X_test)\n",
    "y_pred = (y_pred > 0.5)"
   ]
  },
  {
   "cell_type": "code",
   "execution_count": 24,
   "id": "c1429389",
   "metadata": {},
   "outputs": [
    {
     "name": "stdout",
     "output_type": "stream",
     "text": [
      "[[943  90]\n",
      " [248 126]]\n"
     ]
    }
   ],
   "source": [
    "cm = confusion_matrix(y_test, y_pred)\n",
    "print(cm)"
   ]
  },
  {
   "cell_type": "code",
   "execution_count": 25,
   "id": "ef779dfd",
   "metadata": {},
   "outputs": [
    {
     "data": {
      "image/png": "[encoded data removed]",
      "text/plain": [
       "<Figure size 640x480 with 1 Axes>"
      ]
     },
     "metadata": {},
     "output_type": "display_data"
    }
   ],
   "source": [
    "plt.plot(history.history['accuracy'])\n",
    "plt.title('Model Accuracy')\n",
    "plt.ylabel('Accuracy')\n",
    "plt.xlabel('Epoch')\n",
    "plt.show()"
   ]
  },
  {
   "cell_type": "markdown",
   "id": "ae8a58e7",
   "metadata": {},
   "source": [
    "## Second Model"
   ]
  },
  {
   "cell_type": "markdown",
   "id": "17eea21c",
   "metadata": {},
   "source": [
    "Build the 2nd model using same target and feature variables: \n",
    "i.\n",
    "Added a drop-out layer after the input layer with drop-out value of 0.3 \n",
    "ii.\n",
    "Added a drop-out layer after the hidden layer with drop-out value of 0.2 \n",
    "iii.\n",
    "Predicted the values on the test set and build a confusion matrix \n",
    "iv.\n",
    "Plot the ‘Accuracy vs Epochs’ graph"
   ]
  },
  {
   "cell_type": "code",
   "execution_count": 28,
   "id": "1fc414dd",
   "metadata": {},
   "outputs": [],
   "source": [
    "model2 = Sequential()\n",
    "model2.add(Dense(12, input_dim=1, activation='relu'))\n",
    "model2.add(Dropout(0.3))  \n",
    "model2.add(Dense(8, activation='relu'))\n",
    "model2.add(Dropout(0.2))  \n",
    "model2.add(Dense(1, activation='sigmoid'))"
   ]
  },
  {
   "cell_type": "code",
   "execution_count": 29,
   "id": "e20bbf97",
   "metadata": {},
   "outputs": [],
   "source": [
    "model2.compile(loss='binary_crossentropy', optimizer='adam', metrics=['accuracy'])"
   ]
  },
  {
   "cell_type": "code",
   "execution_count": 30,
   "id": "bb1d165a",
   "metadata": {
    "scrolled": true
   },
   "outputs": [
    {
     "name": "stdout",
     "output_type": "stream",
     "text": [
      "Epoch 1/50\n",
      "563/563 [==============================] - 3s 4ms/step - loss: 0.9463 - accuracy: 0.6880\n",
      "Epoch 2/50\n",
      "563/563 [==============================] - 2s 3ms/step - loss: 0.5703 - accuracy: 0.7246\n",
      "Epoch 3/50\n",
      "563/563 [==============================] - 2s 4ms/step - loss: 0.5412 - accuracy: 0.7307\n",
      "Epoch 4/50\n",
      "563/563 [==============================] - 2s 4ms/step - loss: 0.5314 - accuracy: 0.7333\n",
      "Epoch 5/50\n",
      "563/563 [==============================] - 2s 4ms/step - loss: 0.5307 - accuracy: 0.7342\n",
      "Epoch 6/50\n",
      "563/563 [==============================] - 2s 4ms/step - loss: 0.5277 - accuracy: 0.7340\n",
      "Epoch 7/50\n",
      "563/563 [==============================] - 2s 4ms/step - loss: 0.5269 - accuracy: 0.7342\n",
      "Epoch 8/50\n",
      "563/563 [==============================] - 2s 4ms/step - loss: 0.5290 - accuracy: 0.7342\n",
      "Epoch 9/50\n",
      "563/563 [==============================] - 2s 3ms/step - loss: 0.5269 - accuracy: 0.7342\n",
      "Epoch 10/50\n",
      "563/563 [==============================] - 2s 3ms/step - loss: 0.5246 - accuracy: 0.7342\n",
      "Epoch 11/50\n",
      "563/563 [==============================] - 2s 4ms/step - loss: 0.5227 - accuracy: 0.7342\n",
      "Epoch 12/50\n",
      "563/563 [==============================] - 2s 4ms/step - loss: 0.5248 - accuracy: 0.7342\n",
      "Epoch 13/50\n",
      "563/563 [==============================] - 2s 4ms/step - loss: 0.5271 - accuracy: 0.7342\n",
      "Epoch 14/50\n",
      "563/563 [==============================] - 2s 4ms/step - loss: 0.5252 - accuracy: 0.7342\n",
      "Epoch 15/50\n",
      "563/563 [==============================] - 3s 5ms/step - loss: 0.5268 - accuracy: 0.7342\n",
      "Epoch 16/50\n",
      "563/563 [==============================] - 2s 3ms/step - loss: 0.5268 - accuracy: 0.7342\n",
      "Epoch 17/50\n",
      "563/563 [==============================] - 2s 3ms/step - loss: 0.5232 - accuracy: 0.7342\n",
      "Epoch 18/50\n",
      "563/563 [==============================] - 2s 4ms/step - loss: 0.5263 - accuracy: 0.7342\n",
      "Epoch 19/50\n",
      "563/563 [==============================] - 2s 4ms/step - loss: 0.5263 - accuracy: 0.7342\n",
      "Epoch 20/50\n",
      "563/563 [==============================] - 2s 4ms/step - loss: 0.5211 - accuracy: 0.7342\n",
      "Epoch 21/50\n",
      "563/563 [==============================] - 3s 5ms/step - loss: 0.5244 - accuracy: 0.7342\n",
      "Epoch 22/50\n",
      "563/563 [==============================] - 2s 4ms/step - loss: 0.5254 - accuracy: 0.7342\n",
      "Epoch 23/50\n",
      "563/563 [==============================] - 2s 4ms/step - loss: 0.5264 - accuracy: 0.7342\n",
      "Epoch 24/50\n",
      "563/563 [==============================] - 2s 3ms/step - loss: 0.5236 - accuracy: 0.7342\n",
      "Epoch 25/50\n",
      "563/563 [==============================] - 2s 3ms/step - loss: 0.5249 - accuracy: 0.7342\n",
      "Epoch 26/50\n",
      "563/563 [==============================] - 2s 4ms/step - loss: 0.5253 - accuracy: 0.7342\n",
      "Epoch 27/50\n",
      "563/563 [==============================] - 2s 4ms/step - loss: 0.5260 - accuracy: 0.7342\n",
      "Epoch 28/50\n",
      "563/563 [==============================] - 2s 4ms/step - loss: 0.5235 - accuracy: 0.7342\n",
      "Epoch 29/50\n",
      "563/563 [==============================] - 2s 4ms/step - loss: 0.5237 - accuracy: 0.7342\n",
      "Epoch 30/50\n",
      "563/563 [==============================] - 3s 4ms/step - loss: 0.5243 - accuracy: 0.7342\n",
      "Epoch 31/50\n",
      "563/563 [==============================] - 2s 4ms/step - loss: 0.5253 - accuracy: 0.7342\n",
      "Epoch 32/50\n",
      "563/563 [==============================] - 2s 3ms/step - loss: 0.5193 - accuracy: 0.7342\n",
      "Epoch 33/50\n",
      "563/563 [==============================] - 2s 4ms/step - loss: 0.5241 - accuracy: 0.7342\n",
      "Epoch 34/50\n",
      "563/563 [==============================] - 2s 4ms/step - loss: 0.5228 - accuracy: 0.7342\n",
      "Epoch 35/50\n",
      "563/563 [==============================] - 2s 4ms/step - loss: 0.5228 - accuracy: 0.7342\n",
      "Epoch 36/50\n",
      "563/563 [==============================] - 2s 4ms/step - loss: 0.5255 - accuracy: 0.7342\n",
      "Epoch 37/50\n",
      "563/563 [==============================] - 2s 4ms/step - loss: 0.5256 - accuracy: 0.7342\n",
      "Epoch 38/50\n",
      "563/563 [==============================] - 2s 4ms/step - loss: 0.5256 - accuracy: 0.7342\n",
      "Epoch 39/50\n",
      "563/563 [==============================] - 2s 4ms/step - loss: 0.5221 - accuracy: 0.7342\n",
      "Epoch 40/50\n",
      "563/563 [==============================] - 2s 4ms/step - loss: 0.5236 - accuracy: 0.7342\n",
      "Epoch 41/50\n",
      "563/563 [==============================] - 2s 4ms/step - loss: 0.5224 - accuracy: 0.7342\n",
      "Epoch 42/50\n",
      "563/563 [==============================] - 2s 4ms/step - loss: 0.5242 - accuracy: 0.7342\n",
      "Epoch 43/50\n",
      "563/563 [==============================] - 2s 4ms/step - loss: 0.5205 - accuracy: 0.7342\n",
      "Epoch 44/50\n",
      "563/563 [==============================] - 2s 4ms/step - loss: 0.5230 - accuracy: 0.7342\n",
      "Epoch 45/50\n",
      "563/563 [==============================] - 2s 3ms/step - loss: 0.5242 - accuracy: 0.7342\n",
      "Epoch 46/50\n",
      "563/563 [==============================] - 2s 4ms/step - loss: 0.5218 - accuracy: 0.7342\n",
      "Epoch 47/50\n",
      "563/563 [==============================] - 2s 4ms/step - loss: 0.5215 - accuracy: 0.7342\n",
      "Epoch 48/50\n",
      "563/563 [==============================] - 2s 4ms/step - loss: 0.5235 - accuracy: 0.7342\n",
      "Epoch 49/50\n",
      "563/563 [==============================] - 2s 4ms/step - loss: 0.5255 - accuracy: 0.7342\n",
      "Epoch 50/50\n",
      "563/563 [==============================] - 2s 4ms/step - loss: 0.5225 - accuracy: 0.7342\n"
     ]
    }
   ],
   "source": [
    "history2 = model2.fit(X_train, y_train, epochs=50, batch_size=10)"
   ]
  },
  {
   "cell_type": "code",
   "execution_count": 31,
   "id": "1acc137b",
   "metadata": {},
   "outputs": [
    {
     "name": "stdout",
     "output_type": "stream",
     "text": [
      "44/44 [==============================] - 0s 4ms/step\n"
     ]
    }
   ],
   "source": [
    "y_pred2 = model2.predict(X_test)\n",
    "y_pred2 = (y_pred2 > 0.5)"
   ]
  },
  {
   "cell_type": "code",
   "execution_count": 32,
   "id": "808a4b7f",
   "metadata": {},
   "outputs": [
    {
     "name": "stdout",
     "output_type": "stream",
     "text": [
      "[[1033    0]\n",
      " [ 374    0]]\n"
     ]
    }
   ],
   "source": [
    "cm2 = confusion_matrix(y_test, y_pred2)\n",
    "print(cm2)"
   ]
  },
  {
   "cell_type": "code",
   "execution_count": 33,
   "id": "bf6e51ca",
   "metadata": {},
   "outputs": [
    {
     "data": {
      "image/png": "[encoded data removed]",
      "text/plain": [
       "<Figure size 640x480 with 1 Axes>"
      ]
     },
     "metadata": {},
     "output_type": "display_data"
    }
   ],
   "source": [
    "plt.plot(history2.history['accuracy'])\n",
    "plt.title('Model Accuracy with Dropout Layers')\n",
    "plt.ylabel('Accuracy')\n",
    "plt.xlabel('Epoch')\n",
    "plt.show()"
   ]
  },
  {
   "cell_type": "markdown",
   "id": "d1ed2a48",
   "metadata": {},
   "source": [
    "Third Model"
   ]
  },
  {
   "cell_type": "markdown",
   "id": "2913e0ba",
   "metadata": {},
   "source": [
    "Build the 3rd model using ‘Tenure’, ’Monthly Charges’ & ‘Total Charges’ as the features and \n",
    "‘Churn’ as the dependent/target column: \n",
    "i.\n",
    "The visible/input layer has 12 nodes with ‘Relu’ as activation function.\n",
    "ii.\n",
    "This model would have 1 hidden layer with 8 nodes and ‘Relu’ as activation function\n",
    "iii.\n",
    "Used ‘Adam’ as the optimization algorithm\n",
    "iv.\n",
    "Fit the model on the train set, with number of epochs to be 150 \n",
    "v.\n",
    "Predicted the values on the test set and build a confusion matrix \n",
    "vi. \n",
    "Plot the accuracy vs. epochs graph"
   ]
  },
  {
   "cell_type": "code",
   "execution_count": 34,
   "id": "0196aec5",
   "metadata": {},
   "outputs": [],
   "source": [
    "model3 = Sequential()\n",
    "model3.add(Dense(12, input_dim=3, activation='relu')) \n",
    "model3.add(Dense(8, activation='relu'))\n",
    "model3.add(Dense(1, activation='sigmoid'))"
   ]
  },
  {
   "cell_type": "code",
   "execution_count": 36,
   "id": "72b51a92",
   "metadata": {},
   "outputs": [],
   "source": [
    "X = df[['tenure', 'MonthlyCharges', 'TotalCharges']].values\n",
    "y = pd.get_dummies(df['Churn'], drop_first=True).values\n",
    "\n",
    "X_train, X_test, y_train, y_test = train_test_split(X, y, test_size=0.2, random_state=42)"
   ]
  },
  {
   "cell_type": "code",
   "execution_count": 37,
   "id": "30da6bff",
   "metadata": {},
   "outputs": [],
   "source": [
    "model3.compile(loss='binary_crossentropy', optimizer='adam', metrics=['accuracy'])"
   ]
  },
  {
   "cell_type": "code",
   "execution_count": 38,
   "id": "54ea67df",
   "metadata": {},
   "outputs": [
    {
     "name": "stdout",
     "output_type": "stream",
     "text": [
      "Epoch 1/150\n",
      "563/563 [==============================] - 3s 4ms/step - loss: 44.7549 - accuracy: 0.6279\n",
      "Epoch 2/150\n",
      "563/563 [==============================] - 2s 3ms/step - loss: 1.5283 - accuracy: 0.7138\n",
      "Epoch 3/150\n",
      "563/563 [==============================] - 2s 4ms/step - loss: 1.1654 - accuracy: 0.7285\n",
      "Epoch 4/150\n",
      "563/563 [==============================] - 2s 4ms/step - loss: 1.3104 - accuracy: 0.7209\n",
      "Epoch 5/150\n",
      "563/563 [==============================] - 3s 5ms/step - loss: 1.1474 - accuracy: 0.7317\n",
      "Epoch 6/150\n",
      "563/563 [==============================] - 3s 5ms/step - loss: 1.3006 - accuracy: 0.7349\n",
      "Epoch 7/150\n",
      "563/563 [==============================] - 2s 4ms/step - loss: 1.2748 - accuracy: 0.7285\n",
      "Epoch 8/150\n",
      "563/563 [==============================] - 2s 4ms/step - loss: 1.5497 - accuracy: 0.7321\n",
      "Epoch 9/150\n",
      "563/563 [==============================] - 2s 4ms/step - loss: 1.1670 - accuracy: 0.7380\n",
      "Epoch 10/150\n",
      "563/563 [==============================] - 2s 4ms/step - loss: 1.2110 - accuracy: 0.7317\n",
      "Epoch 11/150\n",
      "563/563 [==============================] - 3s 5ms/step - loss: 1.2671 - accuracy: 0.7353\n",
      "Epoch 12/150\n",
      "563/563 [==============================] - 2s 4ms/step - loss: 1.5981 - accuracy: 0.7335\n",
      "Epoch 13/150\n",
      "563/563 [==============================] - 3s 4ms/step - loss: 1.0939 - accuracy: 0.7342\n",
      "Epoch 14/150\n",
      "563/563 [==============================] - 3s 5ms/step - loss: 0.9018 - accuracy: 0.7424\n",
      "Epoch 15/150\n",
      "563/563 [==============================] - 3s 6ms/step - loss: 1.3990 - accuracy: 0.7328\n",
      "Epoch 16/150\n",
      "563/563 [==============================] - 3s 5ms/step - loss: 1.1500 - accuracy: 0.7285\n",
      "Epoch 17/150\n",
      "563/563 [==============================] - 2s 4ms/step - loss: 1.1160 - accuracy: 0.7346\n",
      "Epoch 18/150\n",
      "563/563 [==============================] - 2s 4ms/step - loss: 1.0712 - accuracy: 0.7404\n",
      "Epoch 19/150\n",
      "563/563 [==============================] - 3s 4ms/step - loss: 1.0989 - accuracy: 0.7440\n",
      "Epoch 20/150\n",
      "563/563 [==============================] - 2s 4ms/step - loss: 1.0938 - accuracy: 0.7388\n",
      "Epoch 21/150\n",
      "563/563 [==============================] - 2s 4ms/step - loss: 1.1186 - accuracy: 0.7364\n",
      "Epoch 22/150\n",
      "563/563 [==============================] - 2s 4ms/step - loss: 0.9660 - accuracy: 0.7387\n",
      "Epoch 23/150\n",
      "563/563 [==============================] - 2s 3ms/step - loss: 0.9383 - accuracy: 0.7364\n",
      "Epoch 24/150\n",
      "563/563 [==============================] - 2s 3ms/step - loss: 0.9948 - accuracy: 0.7351\n",
      "Epoch 25/150\n",
      "563/563 [==============================] - 2s 4ms/step - loss: 1.0031 - accuracy: 0.7328\n",
      "Epoch 26/150\n",
      "563/563 [==============================] - 2s 4ms/step - loss: 1.2126 - accuracy: 0.7397\n",
      "Epoch 27/150\n",
      "563/563 [==============================] - 2s 4ms/step - loss: 0.8042 - accuracy: 0.7413\n",
      "Epoch 28/150\n",
      "563/563 [==============================] - 3s 4ms/step - loss: 0.8644 - accuracy: 0.7326\n",
      "Epoch 29/150\n",
      "563/563 [==============================] - 3s 5ms/step - loss: 1.1170 - accuracy: 0.7344\n",
      "Epoch 30/150\n",
      "563/563 [==============================] - 2s 3ms/step - loss: 0.9763 - accuracy: 0.7412\n",
      "Epoch 31/150\n",
      "563/563 [==============================] - 2s 3ms/step - loss: 0.9249 - accuracy: 0.7447\n",
      "Epoch 32/150\n",
      "563/563 [==============================] - 2s 3ms/step - loss: 0.8911 - accuracy: 0.7426\n",
      "Epoch 33/150\n",
      "563/563 [==============================] - 2s 4ms/step - loss: 0.9063 - accuracy: 0.7381\n",
      "Epoch 34/150\n",
      "563/563 [==============================] - 3s 5ms/step - loss: 1.0795 - accuracy: 0.7339\n",
      "Epoch 35/150\n",
      "563/563 [==============================] - 3s 5ms/step - loss: 0.8027 - accuracy: 0.7461\n",
      "Epoch 36/150\n",
      "563/563 [==============================] - 3s 5ms/step - loss: 0.7663 - accuracy: 0.7490\n",
      "Epoch 37/150\n",
      "563/563 [==============================] - 3s 5ms/step - loss: 0.8550 - accuracy: 0.7412\n",
      "Epoch 38/150\n",
      "563/563 [==============================] - 2s 4ms/step - loss: 0.8567 - accuracy: 0.7404\n",
      "Epoch 39/150\n",
      "563/563 [==============================] - 2s 3ms/step - loss: 0.9124 - accuracy: 0.7396\n",
      "Epoch 40/150\n",
      "563/563 [==============================] - 2s 4ms/step - loss: 0.9533 - accuracy: 0.7372\n",
      "Epoch 41/150\n",
      "563/563 [==============================] - 2s 4ms/step - loss: 0.7829 - accuracy: 0.7509\n",
      "Epoch 42/150\n",
      "563/563 [==============================] - 2s 4ms/step - loss: 0.9246 - accuracy: 0.7429\n",
      "Epoch 43/150\n",
      "563/563 [==============================] - 2s 4ms/step - loss: 0.7949 - accuracy: 0.7488\n",
      "Epoch 44/150\n",
      "563/563 [==============================] - 2s 4ms/step - loss: 0.7972 - accuracy: 0.7596\n",
      "Epoch 45/150\n",
      "563/563 [==============================] - 2s 3ms/step - loss: 0.7034 - accuracy: 0.7508\n",
      "Epoch 46/150\n",
      "563/563 [==============================] - 2s 3ms/step - loss: 0.8021 - accuracy: 0.7422\n",
      "Epoch 47/150\n",
      "563/563 [==============================] - 2s 3ms/step - loss: 0.7498 - accuracy: 0.7479\n",
      "Epoch 48/150\n",
      "563/563 [==============================] - 2s 4ms/step - loss: 0.7535 - accuracy: 0.7433\n",
      "Epoch 49/150\n",
      "563/563 [==============================] - 2s 4ms/step - loss: 0.7963 - accuracy: 0.7385\n",
      "Epoch 50/150\n",
      "563/563 [==============================] - 2s 4ms/step - loss: 0.7457 - accuracy: 0.7420\n",
      "Epoch 51/150\n",
      "563/563 [==============================] - 2s 4ms/step - loss: 0.6281 - accuracy: 0.7563\n",
      "Epoch 52/150\n",
      "563/563 [==============================] - 2s 4ms/step - loss: 0.7121 - accuracy: 0.7508\n",
      "Epoch 53/150\n",
      "563/563 [==============================] - 2s 3ms/step - loss: 0.6391 - accuracy: 0.7531\n",
      "Epoch 54/150\n",
      "563/563 [==============================] - 2s 3ms/step - loss: 0.5624 - accuracy: 0.7637\n",
      "Epoch 55/150\n",
      "563/563 [==============================] - 2s 3ms/step - loss: 0.6649 - accuracy: 0.7552\n",
      "Epoch 56/150\n",
      "563/563 [==============================] - 2s 4ms/step - loss: 0.6359 - accuracy: 0.7468\n",
      "Epoch 57/150\n",
      "563/563 [==============================] - 2s 4ms/step - loss: 0.6457 - accuracy: 0.7564\n",
      "Epoch 58/150\n",
      "563/563 [==============================] - 2s 4ms/step - loss: 0.6758 - accuracy: 0.7520\n",
      "Epoch 59/150\n",
      "563/563 [==============================] - 2s 4ms/step - loss: 0.6476 - accuracy: 0.7520\n",
      "Epoch 60/150\n",
      "563/563 [==============================] - 3s 5ms/step - loss: 0.5713 - accuracy: 0.7630\n",
      "Epoch 61/150\n",
      "563/563 [==============================] - 2s 3ms/step - loss: 0.5550 - accuracy: 0.7705\n",
      "Epoch 62/150\n",
      "563/563 [==============================] - 2s 3ms/step - loss: 0.5648 - accuracy: 0.7580\n",
      "Epoch 63/150\n",
      "563/563 [==============================] - 2s 3ms/step - loss: 0.6234 - accuracy: 0.7529\n",
      "Epoch 64/150\n",
      "563/563 [==============================] - 2s 4ms/step - loss: 0.5905 - accuracy: 0.7614\n",
      "Epoch 65/150\n",
      "563/563 [==============================] - 2s 4ms/step - loss: 0.6002 - accuracy: 0.7550\n",
      "Epoch 66/150\n",
      "563/563 [==============================] - 2s 4ms/step - loss: 0.5787 - accuracy: 0.7609\n",
      "Epoch 67/150\n",
      "563/563 [==============================] - 2s 4ms/step - loss: 0.5938 - accuracy: 0.7543\n",
      "Epoch 68/150\n",
      "563/563 [==============================] - 2s 4ms/step - loss: 0.5210 - accuracy: 0.7696\n",
      "Epoch 69/150\n",
      "563/563 [==============================] - 2s 3ms/step - loss: 0.6120 - accuracy: 0.7616\n",
      "Epoch 70/150\n",
      "563/563 [==============================] - 2s 3ms/step - loss: 0.5171 - accuracy: 0.7723\n",
      "Epoch 71/150\n",
      "563/563 [==============================] - 2s 3ms/step - loss: 0.5492 - accuracy: 0.7694\n",
      "Epoch 72/150\n",
      "563/563 [==============================] - 2s 3ms/step - loss: 0.5325 - accuracy: 0.7712\n",
      "Epoch 73/150\n",
      "563/563 [==============================] - 2s 4ms/step - loss: 0.5332 - accuracy: 0.7653\n",
      "Epoch 74/150\n",
      "563/563 [==============================] - 4s 8ms/step - loss: 0.5115 - accuracy: 0.7732\n",
      "Epoch 75/150\n",
      "563/563 [==============================] - 2s 4ms/step - loss: 0.4945 - accuracy: 0.7776\n",
      "Epoch 76/150\n",
      "563/563 [==============================] - 2s 4ms/step - loss: 0.5121 - accuracy: 0.7673\n",
      "Epoch 77/150\n",
      "563/563 [==============================] - 3s 5ms/step - loss: 0.4875 - accuracy: 0.7808\n",
      "Epoch 78/150\n",
      "563/563 [==============================] - 3s 5ms/step - loss: 0.4957 - accuracy: 0.7737\n",
      "Epoch 79/150\n",
      "563/563 [==============================] - 2s 4ms/step - loss: 0.4828 - accuracy: 0.7792\n",
      "Epoch 80/150\n",
      "563/563 [==============================] - 3s 4ms/step - loss: 0.4728 - accuracy: 0.7847\n",
      "Epoch 81/150\n",
      "563/563 [==============================] - 3s 5ms/step - loss: 0.4714 - accuracy: 0.7854\n",
      "Epoch 82/150\n",
      "563/563 [==============================] - 2s 4ms/step - loss: 0.4777 - accuracy: 0.7847\n",
      "Epoch 83/150\n",
      "563/563 [==============================] - 2s 4ms/step - loss: 0.4665 - accuracy: 0.7886\n",
      "Epoch 84/150\n",
      "563/563 [==============================] - 2s 4ms/step - loss: 0.4691 - accuracy: 0.7838\n",
      "Epoch 85/150\n",
      "563/563 [==============================] - 2s 4ms/step - loss: 0.4630 - accuracy: 0.7884\n",
      "Epoch 86/150\n",
      "563/563 [==============================] - 2s 4ms/step - loss: 0.4711 - accuracy: 0.7801\n",
      "Epoch 87/150\n",
      "563/563 [==============================] - 2s 4ms/step - loss: 0.4775 - accuracy: 0.7813\n",
      "Epoch 88/150\n",
      "563/563 [==============================] - 3s 5ms/step - loss: 0.4688 - accuracy: 0.7900\n",
      "Epoch 89/150\n",
      "563/563 [==============================] - 3s 5ms/step - loss: 0.4668 - accuracy: 0.7874\n",
      "Epoch 90/150\n",
      "563/563 [==============================] - 2s 4ms/step - loss: 0.4730 - accuracy: 0.7847\n",
      "Epoch 91/150\n",
      "563/563 [==============================] - 3s 5ms/step - loss: 0.4706 - accuracy: 0.7829\n",
      "Epoch 92/150\n",
      "563/563 [==============================] - 3s 5ms/step - loss: 0.4655 - accuracy: 0.7863\n",
      "Epoch 93/150\n",
      "563/563 [==============================] - 3s 5ms/step - loss: 0.4684 - accuracy: 0.7886\n",
      "Epoch 94/150\n",
      "563/563 [==============================] - 3s 5ms/step - loss: 0.4704 - accuracy: 0.7877\n",
      "Epoch 95/150\n",
      "563/563 [==============================] - 2s 4ms/step - loss: 0.4699 - accuracy: 0.7858\n",
      "Epoch 96/150\n",
      "563/563 [==============================] - 2s 4ms/step - loss: 0.4656 - accuracy: 0.7868\n",
      "Epoch 97/150\n",
      "563/563 [==============================] - 3s 5ms/step - loss: 0.4680 - accuracy: 0.7902\n",
      "Epoch 98/150\n",
      "563/563 [==============================] - 2s 4ms/step - loss: 0.4708 - accuracy: 0.7861\n",
      "Epoch 99/150\n",
      "563/563 [==============================] - 3s 5ms/step - loss: 0.4685 - accuracy: 0.7842\n",
      "Epoch 100/150\n",
      "563/563 [==============================] - 3s 5ms/step - loss: 0.4680 - accuracy: 0.7845\n",
      "Epoch 101/150\n",
      "563/563 [==============================] - 2s 4ms/step - loss: 0.4687 - accuracy: 0.7861\n",
      "Epoch 102/150\n",
      "563/563 [==============================] - 2s 4ms/step - loss: 0.4681 - accuracy: 0.7829\n",
      "Epoch 103/150\n",
      "563/563 [==============================] - 3s 5ms/step - loss: 0.4658 - accuracy: 0.7874\n",
      "Epoch 104/150\n",
      "563/563 [==============================] - 2s 4ms/step - loss: 0.4647 - accuracy: 0.7870\n",
      "Epoch 105/150\n",
      "563/563 [==============================] - 2s 4ms/step - loss: 0.4643 - accuracy: 0.7863\n",
      "Epoch 106/150\n",
      "563/563 [==============================] - 2s 4ms/step - loss: 0.4676 - accuracy: 0.7815\n",
      "Epoch 107/150\n",
      "563/563 [==============================] - 2s 4ms/step - loss: 0.4631 - accuracy: 0.7858\n",
      "Epoch 108/150\n",
      "563/563 [==============================] - 2s 3ms/step - loss: 0.4619 - accuracy: 0.7852\n",
      "Epoch 109/150\n",
      "563/563 [==============================] - 2s 3ms/step - loss: 0.4633 - accuracy: 0.7847\n",
      "Epoch 110/150\n",
      "563/563 [==============================] - 3s 4ms/step - loss: 0.4612 - accuracy: 0.7877\n",
      "Epoch 111/150\n",
      "563/563 [==============================] - 2s 4ms/step - loss: 0.4627 - accuracy: 0.7867\n",
      "Epoch 112/150\n",
      "563/563 [==============================] - 2s 4ms/step - loss: 0.4627 - accuracy: 0.7870\n",
      "Epoch 113/150\n",
      "563/563 [==============================] - 2s 4ms/step - loss: 0.4646 - accuracy: 0.7879\n",
      "Epoch 114/150\n",
      "563/563 [==============================] - 2s 4ms/step - loss: 0.4606 - accuracy: 0.7909\n",
      "Epoch 115/150\n",
      "563/563 [==============================] - 2s 4ms/step - loss: 0.4609 - accuracy: 0.7883\n",
      "Epoch 116/150\n",
      "563/563 [==============================] - 2s 4ms/step - loss: 0.4602 - accuracy: 0.7915\n",
      "Epoch 117/150\n",
      "563/563 [==============================] - 2s 4ms/step - loss: 0.4605 - accuracy: 0.7865\n",
      "Epoch 118/150\n",
      "563/563 [==============================] - 2s 4ms/step - loss: 0.4582 - accuracy: 0.7893\n",
      "Epoch 119/150\n",
      "563/563 [==============================] - 2s 4ms/step - loss: 0.4569 - accuracy: 0.7861\n",
      "Epoch 120/150\n",
      "563/563 [==============================] - 3s 5ms/step - loss: 0.4618 - accuracy: 0.7902\n",
      "Epoch 121/150\n",
      "563/563 [==============================] - 2s 4ms/step - loss: 0.4599 - accuracy: 0.7900\n",
      "Epoch 122/150\n",
      "563/563 [==============================] - 2s 4ms/step - loss: 0.4600 - accuracy: 0.7883\n",
      "Epoch 123/150\n",
      "563/563 [==============================] - 2s 4ms/step - loss: 0.4609 - accuracy: 0.7884\n",
      "Epoch 124/150\n",
      "563/563 [==============================] - 2s 4ms/step - loss: 0.4586 - accuracy: 0.7890\n",
      "Epoch 125/150\n",
      "563/563 [==============================] - 3s 4ms/step - loss: 0.4593 - accuracy: 0.7831\n",
      "Epoch 126/150\n",
      "563/563 [==============================] - 3s 5ms/step - loss: 0.4606 - accuracy: 0.7897\n",
      "Epoch 127/150\n",
      "563/563 [==============================] - 2s 4ms/step - loss: 0.4615 - accuracy: 0.7842\n",
      "Epoch 128/150\n",
      "563/563 [==============================] - 2s 4ms/step - loss: 0.4588 - accuracy: 0.7881\n",
      "Epoch 129/150\n",
      "563/563 [==============================] - 2s 4ms/step - loss: 0.4593 - accuracy: 0.7876\n",
      "Epoch 130/150\n",
      "563/563 [==============================] - 2s 4ms/step - loss: 0.4611 - accuracy: 0.7874\n",
      "Epoch 131/150\n",
      "563/563 [==============================] - 2s 4ms/step - loss: 0.4588 - accuracy: 0.7876\n",
      "Epoch 132/150\n",
      "563/563 [==============================] - 2s 4ms/step - loss: 0.4604 - accuracy: 0.7876\n",
      "Epoch 133/150\n",
      "563/563 [==============================] - 3s 5ms/step - loss: 0.4635 - accuracy: 0.7877\n",
      "Epoch 134/150\n",
      "563/563 [==============================] - 3s 5ms/step - loss: 0.4601 - accuracy: 0.7893\n",
      "Epoch 135/150\n",
      "563/563 [==============================] - 3s 5ms/step - loss: 0.4599 - accuracy: 0.7881\n",
      "Epoch 136/150\n",
      "563/563 [==============================] - 3s 5ms/step - loss: 0.4572 - accuracy: 0.7886\n",
      "Epoch 137/150\n",
      "563/563 [==============================] - 3s 6ms/step - loss: 0.4592 - accuracy: 0.7840\n",
      "Epoch 138/150\n",
      "563/563 [==============================] - 3s 5ms/step - loss: 0.4601 - accuracy: 0.7918\n",
      "Epoch 139/150\n",
      "563/563 [==============================] - 2s 4ms/step - loss: 0.4596 - accuracy: 0.7863\n",
      "Epoch 140/150\n",
      "563/563 [==============================] - 3s 4ms/step - loss: 0.4598 - accuracy: 0.7872\n",
      "Epoch 141/150\n",
      "563/563 [==============================] - 3s 5ms/step - loss: 0.4584 - accuracy: 0.7904\n",
      "Epoch 142/150\n",
      "563/563 [==============================] - 2s 4ms/step - loss: 0.4598 - accuracy: 0.7895\n",
      "Epoch 143/150\n",
      "563/563 [==============================] - 3s 5ms/step - loss: 0.4595 - accuracy: 0.7904\n",
      "Epoch 144/150\n",
      "563/563 [==============================] - 3s 5ms/step - loss: 0.4572 - accuracy: 0.7870\n",
      "Epoch 145/150\n",
      "563/563 [==============================] - 3s 5ms/step - loss: 0.4618 - accuracy: 0.7915\n",
      "Epoch 146/150\n",
      "563/563 [==============================] - 3s 5ms/step - loss: 0.4596 - accuracy: 0.7858\n",
      "Epoch 147/150\n",
      "563/563 [==============================] - 3s 4ms/step - loss: 0.4588 - accuracy: 0.7888\n",
      "Epoch 148/150\n",
      "563/563 [==============================] - 2s 4ms/step - loss: 0.4594 - accuracy: 0.7879\n",
      "Epoch 149/150\n",
      "563/563 [==============================] - 3s 5ms/step - loss: 0.4593 - accuracy: 0.7861\n",
      "Epoch 150/150\n",
      "563/563 [==============================] - 3s 5ms/step - loss: 0.4588 - accuracy: 0.7899\n"
     ]
    }
   ],
   "source": [
    "history3 = model3.fit(X_train, y_train, epochs=150, batch_size=10)"
   ]
  },
  {
   "cell_type": "code",
   "execution_count": 39,
   "id": "45a92a26",
   "metadata": {},
   "outputs": [
    {
     "name": "stdout",
     "output_type": "stream",
     "text": [
      "44/44 [==============================] - 0s 3ms/step\n"
     ]
    }
   ],
   "source": [
    "y_pred3 = model3.predict(X_test)\n",
    "y_pred3 = (y_pred3 > 0.5)"
   ]
  },
  {
   "cell_type": "code",
   "execution_count": 40,
   "id": "f1e3a225",
   "metadata": {},
   "outputs": [
    {
     "name": "stdout",
     "output_type": "stream",
     "text": [
      "[[879 154]\n",
      " [172 202]]\n"
     ]
    }
   ],
   "source": [
    "cm3 = confusion_matrix(y_test, y_pred3)\n",
    "print(cm3)"
   ]
  },
  {
   "cell_type": "code",
   "execution_count": 41,
   "id": "30012654",
   "metadata": {},
   "outputs": [
    {
     "data": {
      "image/png": "[encoded data removed]",
      "text/plain": [
       "<Figure size 640x480 with 1 Axes>"
      ]
     },
     "metadata": {},
     "output_type": "display_data"
    }
   ],
   "source": [
    "plt.plot(history3.history['accuracy'])\n",
    "plt.title('Model Accuracy with Multiple Features')\n",
    "plt.ylabel('Accuracy')\n",
    "plt.xlabel('Epoch')\n",
    "plt.show()"
   ]
  },
  {
   "cell_type": "markdown",
   "id": "44106018",
   "metadata": {},
   "source": [
    "We noticed that the accuracy is better with increased number of independent features"
   ]
  }
 ],
 "metadata": {
  "kernelspec": {
   "display_name": "Python 3 (ipykernel)",
   "language": "python",
   "name": "python3"
  },
  "language_info": {
   "codemirror_mode": {
    "name": "ipython",
    "version": 3
   },
   "file_extension": ".py",
   "mimetype": "text/x-python",
   "name": "python",
   "nbconvert_exporter": "python",
   "pygments_lexer": "ipython3",
   "version": "3.9.13"
  }
 },
 "nbformat": 4,
 "nbformat_minor": 5
}
